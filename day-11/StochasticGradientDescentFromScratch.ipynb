{
  "nbformat": 4,
  "nbformat_minor": 0,
  "metadata": {
    "colab": {
      "provenance": []
    },
    "kernelspec": {
      "name": "python3",
      "display_name": "Python 3"
    },
    "language_info": {
      "name": "python"
    }
  },
  "cells": [
    {
      "cell_type": "code",
      "execution_count": 1,
      "metadata": {
        "id": "VYYPFDF8gllB"
      },
      "outputs": [],
      "source": [
        "from sklearn.datasets import load_diabetes\n",
        "import pandas as pd\n",
        "import numpy as np\n",
        "import time"
      ]
    },
    {
      "cell_type": "code",
      "source": [
        "X,y = load_diabetes(return_X_y=True)"
      ],
      "metadata": {
        "id": "NBONACW_l6yG"
      },
      "execution_count": 2,
      "outputs": []
    },
    {
      "cell_type": "code",
      "source": [
        "print(X.shape)"
      ],
      "metadata": {
        "colab": {
          "base_uri": "https://localhost:8080/"
        },
        "id": "7QDAXeTcmMXV",
        "outputId": "da9184b7-e6b2-4c71-eec8-bed095b2c686"
      },
      "execution_count": 3,
      "outputs": [
        {
          "output_type": "stream",
          "name": "stdout",
          "text": [
            "(442, 10)\n"
          ]
        }
      ]
    },
    {
      "cell_type": "code",
      "source": [
        "print(y.shape)"
      ],
      "metadata": {
        "colab": {
          "base_uri": "https://localhost:8080/"
        },
        "id": "rQULYpXMmOaP",
        "outputId": "f8f74d31-928c-4b20-cbe6-1c2d9f6bbf80"
      },
      "execution_count": 4,
      "outputs": [
        {
          "output_type": "stream",
          "name": "stdout",
          "text": [
            "(442,)\n"
          ]
        }
      ]
    },
    {
      "cell_type": "code",
      "source": [
        "from sklearn.model_selection import train_test_split\n",
        "X_train,X_test,y_train,y_test=train_test_split(X,y,test_size=0.2,random_state=42)"
      ],
      "metadata": {
        "id": "o3P_EIW1mWWC"
      },
      "execution_count": 5,
      "outputs": []
    },
    {
      "cell_type": "code",
      "source": [
        "from sklearn.linear_model import LinearRegression\n",
        "lr=LinearRegression()\n",
        "start= time.time()\n",
        "lr.fit(X_train,y_train)\n",
        "print(\"Time taken is :\",time.time()-start)"
      ],
      "metadata": {
        "colab": {
          "base_uri": "https://localhost:8080/"
        },
        "id": "LOtr2aCGmPWV",
        "outputId": "995a441b-2535-40fc-ed1d-69431a51dc9b"
      },
      "execution_count": 6,
      "outputs": [
        {
          "output_type": "stream",
          "name": "stdout",
          "text": [
            "Time taken is : 0.004287004470825195\n"
          ]
        }
      ]
    },
    {
      "cell_type": "code",
      "source": [
        "print(lr.coef_)\n",
        "print(lr.intercept_)"
      ],
      "metadata": {
        "colab": {
          "base_uri": "https://localhost:8080/"
        },
        "id": "fxR9FIgEmns2",
        "outputId": "c7da71d6-9e89-4e1b-d9dd-3d2a58c7fe6e"
      },
      "execution_count": 7,
      "outputs": [
        {
          "output_type": "stream",
          "name": "stdout",
          "text": [
            "[  37.90402135 -241.96436231  542.42875852  347.70384391 -931.48884588\n",
            "  518.06227698  163.41998299  275.31790158  736.1988589    48.67065743]\n",
            "151.34560453985995\n"
          ]
        }
      ]
    },
    {
      "cell_type": "code",
      "source": [
        "from sklearn.metrics import r2_score\n",
        "y_pred = lr.predict(X_test)\n",
        "r2_score(y_test,y_pred)"
      ],
      "metadata": {
        "colab": {
          "base_uri": "https://localhost:8080/"
        },
        "id": "B7WpQCzmm7me",
        "outputId": "00e8f029-7d90-4f3b-e571-59440acc71c5"
      },
      "execution_count": 8,
      "outputs": [
        {
          "output_type": "execute_result",
          "data": {
            "text/plain": [
              "0.4526027629719195"
            ]
          },
          "metadata": {},
          "execution_count": 8
        }
      ]
    },
    {
      "cell_type": "code",
      "source": [
        "X_train[0]"
      ],
      "metadata": {
        "colab": {
          "base_uri": "https://localhost:8080/"
        },
        "id": "MOVPks87pLAM",
        "outputId": "c29f6437-a4d2-4fd2-8122-2b63208f66ea"
      },
      "execution_count": 9,
      "outputs": [
        {
          "output_type": "execute_result",
          "data": {
            "text/plain": [
              "array([ 0.07076875,  0.05068012,  0.01211685,  0.0563009 ,  0.03420581,\n",
              "        0.04941617, -0.03971921,  0.03430886,  0.02736405, -0.0010777 ])"
            ]
          },
          "metadata": {},
          "execution_count": 9
        }
      ]
    },
    {
      "cell_type": "code",
      "source": [
        "X_train[1]"
      ],
      "metadata": {
        "colab": {
          "base_uri": "https://localhost:8080/"
        },
        "id": "sZKnL1qgpRw_",
        "outputId": "5217f0f6-5931-443c-ba34-4b2f85d00d03"
      },
      "execution_count": 10,
      "outputs": [
        {
          "output_type": "execute_result",
          "data": {
            "text/plain": [
              "array([-0.00914709,  0.05068012, -0.01806189, -0.03321323, -0.0208323 ,\n",
              "        0.01215151, -0.07285395,  0.07120998,  0.00027248,  0.01963284])"
            ]
          },
          "metadata": {},
          "execution_count": 10
        }
      ]
    },
    {
      "cell_type": "code",
      "source": [
        "X_train.shape"
      ],
      "metadata": {
        "colab": {
          "base_uri": "https://localhost:8080/"
        },
        "id": "DExk0BY_ul6Q",
        "outputId": "a06d8fe7-74a0-4c77-8be6-388bed1efcbf"
      },
      "execution_count": 11,
      "outputs": [
        {
          "output_type": "execute_result",
          "data": {
            "text/plain": [
              "(353, 10)"
            ]
          },
          "metadata": {},
          "execution_count": 11
        }
      ]
    },
    {
      "cell_type": "code",
      "source": [
        "X_train.shape[1]"
      ],
      "metadata": {
        "colab": {
          "base_uri": "https://localhost:8080/"
        },
        "id": "FJujtgFDutFV",
        "outputId": "eecf9d6e-e882-4c09-a100-8b686acc256c"
      },
      "execution_count": 12,
      "outputs": [
        {
          "output_type": "execute_result",
          "data": {
            "text/plain": [
              "10"
            ]
          },
          "metadata": {},
          "execution_count": 12
        }
      ]
    },
    {
      "cell_type": "code",
      "source": [
        "X_train.shape[0]"
      ],
      "metadata": {
        "colab": {
          "base_uri": "https://localhost:8080/"
        },
        "id": "V38CRpMduwdv",
        "outputId": "562d6601-d0b7-4f49-eb4c-6cbe9427951b"
      },
      "execution_count": 13,
      "outputs": [
        {
          "output_type": "execute_result",
          "data": {
            "text/plain": [
              "353"
            ]
          },
          "metadata": {},
          "execution_count": 13
        }
      ]
    },
    {
      "cell_type": "markdown",
      "source": [
        "Creating our  own SGD regressor\n",
        "\n"
      ],
      "metadata": {
        "id": "AyYknK_EnMWR"
      }
    },
    {
      "cell_type": "code",
      "source": [
        "import numpy as np  # Required for numerical operations\n",
        "\n",
        "class SGDRegressor:\n",
        "    def __init__(self, learning_rate=0.01, epochs=100):\n",
        "        # Initialize model parameters to None\n",
        "        self.coef_ = None\n",
        "        self.intercept_ = None\n",
        "        self.lr = learning_rate\n",
        "        self.epochs = epochs\n",
        "\n",
        "    def fit(self, X_train, y_train):\n",
        "        # Initialize the intercept to 0\n",
        "        self.intercept_ = 0\n",
        "\n",
        "        # Initialize all weights (coefs) to 1 for each feature in the input\n",
        "        self.coef_ = np.ones(X_train.shape[1])  # X_train.shape[1] gives the number of features\n",
        "\n",
        "        # Outer loop: run the SGD update for 'epochs' number of times\n",
        "        for i in range(self.epochs):\n",
        "\n",
        "            # Inner loop: perform updates for each training instance (row)\n",
        "            for j in range(X_train.shape[0]):\n",
        "\n",
        "                # Randomly select an index (a single data point) from the dataset\n",
        "                idx = np.random.randint(0, X_train.shape[0])  # Fix: randint, not randit\n",
        "\n",
        "                # Predict the target value (ŷ) using current weights and bias\n",
        "                y_pred = np.dot(X_train[idx], self.coef_) + self.intercept_\n",
        "                # dot product between features and their weights + intercept gives predicted value\n",
        "\n",
        "                # Compute the gradient (derivative) of the loss w.r.t. the intercept (bias)\n",
        "                derv_with_res_to_intercept = -2 * (y_train[idx] - y_pred)\n",
        "                # Update the intercept using gradient descent rule\n",
        "                self.intercept_ = self.intercept_ - (self.lr * derv_with_res_to_intercept)\n",
        "\n",
        "                # Compute the gradient (derivative) of the loss w.r.t. the weights\n",
        "                derv_with_res_to_coef_ = -2 * (y_train[idx] - y_pred) * X_train[idx]\n",
        "                # Update each weight using its corresponding gradient\n",
        "                self.coef_ = self.coef_ - (self.lr * derv_with_res_to_coef_)\n",
        "\n",
        "            # Print the current state of intercept and weights after each epoch (optional for debugging)\n",
        "            #print(self.intercept_, self.coef_)\n",
        "\n",
        "    def predict(self, X_test):\n",
        "        # Use learned weights and intercept to predict outputs for test data\n",
        "        return np.dot(X_test, self.coef_) + self.intercept_\n"
      ],
      "metadata": {
        "id": "wA3jFusinO8F"
      },
      "execution_count": 14,
      "outputs": []
    },
    {
      "cell_type": "code",
      "source": [
        "sgd= SGDRegressor(learning_rate=0.01,epochs=66)\n",
        "##time module to see the time deference between both algorithms (bactch the above code, and stocastic ie, this code)\n",
        "start= time.time()\n",
        "sgd.fit(X_train,y_train)\n",
        "print(\"Time taken is :\",time.time()-start)"
      ],
      "metadata": {
        "colab": {
          "base_uri": "https://localhost:8080/"
        },
        "id": "ojXDRvRKrL59",
        "outputId": "d9100058-46df-4b5c-bb9d-e0fdb0a29140"
      },
      "execution_count": 15,
      "outputs": [
        {
          "output_type": "stream",
          "name": "stdout",
          "text": [
            "Time taken is : 0.9014883041381836\n"
          ]
        }
      ]
    },
    {
      "cell_type": "code",
      "source": [
        "y_pred= sgd.predict(X_test)"
      ],
      "metadata": {
        "id": "JvJEsD_cvevk"
      },
      "execution_count": 16,
      "outputs": []
    },
    {
      "cell_type": "code",
      "source": [
        "r2_score(y_test,y_pred)"
      ],
      "metadata": {
        "colab": {
          "base_uri": "https://localhost:8080/"
        },
        "id": "oMkOe5J_vtce",
        "outputId": "7c0ae2e2-3b9a-4dec-a322-fb44b27e5a4d"
      },
      "execution_count": 17,
      "outputs": [
        {
          "output_type": "execute_result",
          "data": {
            "text/plain": [
              "0.4498169416348422"
            ]
          },
          "metadata": {},
          "execution_count": 17
        }
      ]
    },
    {
      "cell_type": "code",
      "source": [
        "###for fixed epochs, it is not necesary that stochastic is alwyas faster"
      ],
      "metadata": {
        "id": "gMc6BHztxk8T"
      },
      "execution_count": 18,
      "outputs": []
    }
  ]
}